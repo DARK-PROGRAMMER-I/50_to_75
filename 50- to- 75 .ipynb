{
 "cells": [
  {
   "cell_type": "code",
   "execution_count": 1,
   "metadata": {},
   "outputs": [],
   "source": [
    "import pandas as pd\n",
    "import numpy as np\n"
   ]
  },
  {
   "cell_type": "markdown",
   "metadata": {},
   "source": [
    "### Exe 51\n",
    "**Question:** The code produces an error. Please understand the error and try to fix it.\n",
    "                                                                                            \n",
    "print(type(\"Hey\".replace(\"ey\",\"i\")[-1])                                                                                           "
   ]
  },
  {
   "cell_type": "code",
   "execution_count": 1,
   "metadata": {},
   "outputs": [
    {
     "name": "stdout",
     "output_type": "stream",
     "text": [
      "<class 'str'>\n"
     ]
    }
   ],
   "source": [
    "# One side of braces was missing\n",
    "\n",
    "print(type(\"Hey\".replace(\"ey\",\"i\")[-1]))"
   ]
  },
  {
   "cell_type": "markdown",
   "metadata": {},
   "source": [
    "### Exe 52\n",
    "**Question:** The code is supposed to ask the user to enter their name and surname, and then it prints out those user submitted values. Instead, the code throws a TypeError. Please fix it so that the expected output is printed out.\n",
    "                                                                                                          \n",
    "firstname = input(\"Enter first name: \")                                                                                                         \n",
    "secondname = input(\"Enter second name: \")                                                                                                         \n",
    "print(\"Your first name is %s and your second name is %s\" % firstname, secondname)                                                                                                         \n",
    "**Expected output:**                                                                                                          \n",
    "                                                                                                         \n",
    "Your first name is John and your second name is Smith                                                                                                          "
   ]
  },
  {
   "cell_type": "code",
   "execution_count": 6,
   "metadata": {},
   "outputs": [
    {
     "name": "stdout",
     "output_type": "stream",
     "text": [
      "Enter first name: Jhon\n",
      "Enter second name: Tatti\n",
      "Your first name is Jhon and your second name is Tatti\n"
     ]
    }
   ],
   "source": [
    "firstname = input(\"Enter first name: \")\n",
    "secondname = input(\"Enter second name: \")\n",
    "print(\"Your first name is %s and your second name is %s\" % (firstname, secondname))"
   ]
  },
  {
   "cell_type": "markdown",
   "metadata": {},
   "source": [
    "### Exe 53\n",
    "Question: Print out the last name of the second employee.                                                                             \n",
    "                                                                                                                                                          \n",
    "d = {\"employees\":[{\"firstName\": \"John\", \"lastName\": \"Doe\"},                                                                             \n",
    "                {\"firstName\": \"Anna\", \"lastName\": \"Smith\"},                                                                             \n",
    "                {\"firstName\": \"Peter\", \"lastName\": \"Jones\"}],                                                                             \n",
    "\"owners\":[{\"firstName\": \"Jack\", \"lastName\": \"Petter\"},                                                                             \n",
    "          {\"firstName\": \"Jessy\", \"lastName\": \"Petter\"}]}                                                                             \n",
    "Expected output:                                                                                                                                                                                                                                        \n",
    "                                                                             \n",
    "Smith                                                                             "
   ]
  },
  {
   "cell_type": "code",
   "execution_count": 13,
   "metadata": {},
   "outputs": [
    {
     "data": {
      "text/plain": [
       "'Smith'"
      ]
     },
     "execution_count": 13,
     "metadata": {},
     "output_type": "execute_result"
    }
   ],
   "source": [
    "d = {\"employees\":[{\"firstName\": \"John\", \"lastName\": \"Doe\"},\n",
    "                {\"firstName\": \"Anna\", \"lastName\": \"Smith\"},\n",
    "                {\"firstName\": \"Peter\", \"lastName\": \"Jones\"}],\n",
    "\"owners\":[{\"firstName\": \"Jack\", \"lastName\": \"Petter\"},\n",
    "          {\"firstName\": \"Jessy\", \"lastName\": \"Petter\"}]}\n",
    "\n",
    "\n",
    "d[\"employees\"][1][\"lastName\"]"
   ]
  },
  {
   "cell_type": "code",
   "execution_count": 14,
   "metadata": {},
   "outputs": [
    {
     "data": {
      "text/plain": [
       "'Jack'"
      ]
     },
     "execution_count": 14,
     "metadata": {},
     "output_type": "execute_result"
    }
   ],
   "source": [
    "d[\"owners\"][0][\"firstName\"]"
   ]
  },
  {
   "cell_type": "code",
   "execution_count": null,
   "metadata": {},
   "outputs": [],
   "source": [
    " "
   ]
  }
 ],
 "metadata": {
  "kernelspec": {
   "display_name": "Python 3",
   "language": "python",
   "name": "python3"
  },
  "language_info": {
   "codemirror_mode": {
    "name": "ipython",
    "version": 3
   },
   "file_extension": ".py",
   "mimetype": "text/x-python",
   "name": "python",
   "nbconvert_exporter": "python",
   "pygments_lexer": "ipython3",
   "version": "3.8.5"
  }
 },
 "nbformat": 4,
 "nbformat_minor": 4
}
